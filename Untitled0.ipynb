{
  "nbformat": 4,
  "nbformat_minor": 0,
  "metadata": {
    "colab": {
      "name": "Untitled0.ipynb",
      "provenance": [],
      "authorship_tag": "ABX9TyPOhzNJKefxE+undjBMOUCn",
      "include_colab_link": true
    },
    "kernelspec": {
      "name": "python3",
      "display_name": "Python 3"
    },
    "language_info": {
      "name": "python"
    }
  },
  "cells": [
    {
      "cell_type": "markdown",
      "metadata": {
        "id": "view-in-github",
        "colab_type": "text"
      },
      "source": [
        "<a href=\"https://colab.research.google.com/github/whynot2022/kkkk/blob/main/Untitled0.ipynb\" target=\"_parent\"><img src=\"https://colab.research.google.com/assets/colab-badge.svg\" alt=\"Open In Colab\"/></a>"
      ]
    },
    {
      "cell_type": "code",
      "metadata": {
        "id": "uQ8cpQLMiDs4"
      },
      "source": [
        "import numpy as np\n",
        "import matplotlib.pyplot as plt\n",
        "import random\n"
      ],
      "execution_count": 1,
      "outputs": []
    },
    {
      "cell_type": "code",
      "metadata": {
        "id": "W8zY1IsuiN7S"
      },
      "source": [
        "def data_generator(numClasses, numElems):\n",
        "    data = np.empty((sum(numElems), 2))\n",
        "    target = np.empty(sum(numElems))\n",
        "    \n",
        "    for cl, n in zip(list(range(numClasses)), numElems):\n",
        "        start_pos = sum(numElems[:cl])\n",
        "        \n",
        "        x_c, y_c = random.random() * 5, random.random() * 5\n",
        "        \n",
        "        data[start_pos:start_pos+n,:] = np.random.normal([x_c, y_c], 0.5, (n, 2))\n",
        "        target[start_pos:start_pos+n] = np.full(n, cl)\n",
        "        return data, target"
      ],
      "execution_count": 4,
      "outputs": []
    },
    {
      "cell_type": "code",
      "metadata": {
        "id": "mf-l6xs2iOHt"
      },
      "source": [
        "data, target = data_generator(3, [100,100,100])\n"
      ],
      "execution_count": 8,
      "outputs": []
    },
    {
      "cell_type": "code",
      "metadata": {
        "colab": {
          "base_uri": "https://localhost:8080/",
          "height": 307
        },
        "id": "JLQBZlNpib0j",
        "outputId": "327cff2f-8e31-427b-9512-2b4369ff47a4"
      },
      "source": [
        "plt.scatter(data[:,0], data[:,1], c = target)"
      ],
      "execution_count": 9,
      "outputs": [
        {
          "output_type": "execute_result",
          "data": {
            "text/plain": [
              "<matplotlib.collections.PathCollection at 0x7f94dc7fb690>"
            ]
          },
          "metadata": {
            "tags": []
          },
          "execution_count": 9
        },
        {
          "output_type": "display_data",
          "data": {
            "image/png": "[encoded data removed]",
            "text/plain": [
              "<Figure size 432x288 with 1 Axes>"
            ]
          },
          "metadata": {
            "tags": [],
            "needs_background": "light"
          }
        }
      ]
    },
    {
      "cell_type": "code",
      "metadata": {
        "id": "3qs3LPalj_0u"
      },
      "source": [
        ""
      ],
      "execution_count": null,
      "outputs": []
    },
    {
      "cell_type": "code",
      "metadata": {
        "id": "Q-c0kS_JkAFY"
      },
      "source": [
        ""
      ],
      "execution_count": null,
      "outputs": []
    }
  ]
}